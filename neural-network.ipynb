{
 "cells": [
  {
   "cell_type": "code",
   "execution_count": 1,
   "metadata": {},
   "outputs": [],
   "source": [
    "import config as cfg\n",
    "import pandas as pd\n",
    "import numpy as np\n",
    "from keras.models import Sequential\n",
    "from keras.layers import Dense, Dropout, Activation\n",
    "from pathlib import Path\n",
    "from sklearn.model_selection import train_test_split\n",
    "import pickle"
   ]
  },
  {
   "cell_type": "code",
   "execution_count": 2,
   "metadata": {},
   "outputs": [],
   "source": [
    "from contextlib import suppress\n",
    "\n",
    "\n",
    "clean_data = pd.read_pickle(cfg.PATHS.TRANSFORMED_DATA_PICKLE)\n",
    "with suppress(Exception):\n",
    "    clean_data.drop(\"text\", axis=1, inplace=True)\n",
    "with open(cfg.PATHS.EMBEDDINGS, \"rb\") as f:\n",
    "    embeddings = pickle.load(f)"
   ]
  },
  {
   "cell_type": "code",
   "execution_count": 3,
   "metadata": {},
   "outputs": [
    {
     "data": {
      "text/plain": [
       "(223152, 223152)"
      ]
     },
     "execution_count": 3,
     "metadata": {},
     "output_type": "execute_result"
    }
   ],
   "source": [
    "len(embeddings), len(clean_data)\n"
   ]
  },
  {
   "cell_type": "code",
   "execution_count": 4,
   "metadata": {},
   "outputs": [],
   "source": [
    "# Split the data into training and testing sets\n",
    "X = clean_data.drop([\"useful\", \"funny\", \"cool\"], axis=1)\n",
    "y = clean_data[[\"useful\", \"funny\", \"cool\"]]\n",
    "\n",
    "# log transform the target variables\n",
    "y = np.log1p(y)\n",
    "\n",
    "X_train, X_test, y_train, y_test = train_test_split(X, y, test_size=0.2, random_state=42)\n",
    "embeddings_train = embeddings[: X_train.shape[0]]\n",
    "embeddings_test = embeddings[X_train.shape[0] :]"
   ]
  },
  {
   "attachments": {},
   "cell_type": "markdown",
   "metadata": {},
   "source": [
    "# Keras Model"
   ]
  },
  {
   "cell_type": "code",
   "execution_count": 5,
   "metadata": {},
   "outputs": [],
   "source": [
    "import keras.backend as K\n",
    "import tensorflow as tf\n",
    "\n",
    "\n",
    "def custom_loss(y_true, y_pred):\n",
    "    # Compute the weight for each output based on the corresponding non-zero value of the predictor\n",
    "    predictor_weight = K.cast(K.not_equal(y_true, 0), dtype=\"float32\")\n",
    "    # Compute the weighted mean squared error loss\n",
    "    mse = K.mean(K.square(y_true - y_pred) * predictor_weight, axis=-1)\n",
    "    return mse"
   ]
  },
  {
   "cell_type": "code",
   "execution_count": 6,
   "metadata": {},
   "outputs": [
    {
     "name": "stderr",
     "output_type": "stream",
     "text": [
      "/opt/homebrew/anaconda3/envs/tf_m1/lib/python3.8/site-packages/keras/optimizers/legacy/adam.py:117: UserWarning: The `lr` argument is deprecated, use `learning_rate` instead.\n",
      "  super().__init__(name, **kwargs)\n"
     ]
    }
   ],
   "source": [
    "from keras.layers import Input, Dense, Concatenate, Flatten\n",
    "from keras.models import Model\n",
    "from keras.optimizers import Adam\n",
    "\n",
    "# Define the input layers\n",
    "embedding_dim = embeddings.shape[1]\n",
    "num_predictors = X.shape[1]\n",
    "review_input = Input(shape=(embedding_dim,))\n",
    "predictor_input = Input(shape=(num_predictors,))\n",
    "\n",
    "# Concatenate the review text embedding and predictor inputs\n",
    "concatenated = Concatenate()([review_input, predictor_input])\n",
    "\n",
    "# Define the fully connected layers\n",
    "fc0 = Dense(256, activation=\"relu\")(concatenated)\n",
    "fc1 = Dense(128, activation=\"relu\")(fc0)\n",
    "fc2 = Dense(64, activation=\"relu\")(fc1)\n",
    "fc3 = Dense(32, activation=\"relu\")(fc2)\n",
    "\n",
    "# Define the output layers\n",
    "helpful_output = Dense(1, name=\"useful\")(fc3)\n",
    "funny_output = Dense(1, name=\"funny\")(fc3)\n",
    "cool_output = Dense(1, name=\"cool\")(fc3)\n",
    "\n",
    "# Define the model with multiple outputs\n",
    "model = Model(inputs=[review_input, predictor_input], outputs=[helpful_output, funny_output, cool_output])\n",
    "\n",
    "# Compile the model\n",
    "model.compile(optimizer=Adam(lr=0.001), loss=custom_loss, metrics=[\"mae\"])\n"
   ]
  },
  {
   "cell_type": "code",
   "execution_count": 7,
   "metadata": {},
   "outputs": [
    {
     "name": "stdout",
     "output_type": "stream",
     "text": [
      "Epoch 1/10\n"
     ]
    },
    {
     "name": "stderr",
     "output_type": "stream",
     "text": [
      "2023-04-14 10:51:12.739551: W tensorflow/tsl/platform/profile_utils/cpu_utils.cc:128] Failed to get CPU frequency: 0 Hz\n"
     ]
    },
    {
     "name": "stdout",
     "output_type": "stream",
     "text": [
      "5579/5579 [==============================] - 10s 2ms/step - loss: 17.9016 - useful_loss: 11.0056 - funny_loss: 3.2823 - cool_loss: 3.6136 - useful_mae: 0.7564 - funny_mae: 0.7958 - cool_mae: 0.8459\n",
      "Epoch 2/10\n",
      "5579/5579 [==============================] - 10s 2ms/step - loss: 1.1146 - useful_loss: 0.3580 - funny_loss: 0.4016 - cool_loss: 0.3550 - useful_mae: 0.4520 - funny_mae: 0.6305 - cool_mae: 0.5822\n",
      "Epoch 3/10\n",
      "5579/5579 [==============================] - 10s 2ms/step - loss: 0.9357 - useful_loss: 0.3033 - funny_loss: 0.3354 - cool_loss: 0.2969 - useful_mae: 0.4095 - funny_mae: 0.5998 - cool_mae: 0.5501\n",
      "Epoch 4/10\n",
      "5579/5579 [==============================] - 10s 2ms/step - loss: 0.8114 - useful_loss: 0.2445 - funny_loss: 0.3123 - cool_loss: 0.2546 - useful_mae: 0.3776 - funny_mae: 0.5859 - cool_mae: 0.4991\n",
      "Epoch 5/10\n",
      "5579/5579 [==============================] - 10s 2ms/step - loss: 0.7647 - useful_loss: 0.2302 - funny_loss: 0.3014 - cool_loss: 0.2330 - useful_mae: 0.3645 - funny_mae: 0.5770 - cool_mae: 0.4682\n",
      "Epoch 6/10\n",
      "5579/5579 [==============================] - 10s 2ms/step - loss: 0.7634 - useful_loss: 0.2293 - funny_loss: 0.3016 - cool_loss: 0.2324 - useful_mae: 0.3627 - funny_mae: 0.5761 - cool_mae: 0.4641\n",
      "Epoch 7/10\n",
      "5579/5579 [==============================] - 10s 2ms/step - loss: 0.7519 - useful_loss: 0.2265 - funny_loss: 0.2985 - cool_loss: 0.2270 - useful_mae: 0.3596 - funny_mae: 0.5733 - cool_mae: 0.4603\n",
      "Epoch 8/10\n",
      "5579/5579 [==============================] - 10s 2ms/step - loss: 0.7354 - useful_loss: 0.2223 - funny_loss: 0.2926 - cool_loss: 0.2206 - useful_mae: 0.3575 - funny_mae: 0.5702 - cool_mae: 0.4546\n",
      "Epoch 9/10\n",
      "5579/5579 [==============================] - 10s 2ms/step - loss: 0.7284 - useful_loss: 0.2203 - funny_loss: 0.2900 - cool_loss: 0.2181 - useful_mae: 0.3559 - funny_mae: 0.5682 - cool_mae: 0.4522\n",
      "Epoch 10/10\n",
      "5579/5579 [==============================] - 10s 2ms/step - loss: 0.7220 - useful_loss: 0.2185 - funny_loss: 0.2878 - cool_loss: 0.2157 - useful_mae: 0.3545 - funny_mae: 0.5670 - cool_mae: 0.4506\n"
     ]
    },
    {
     "data": {
      "text/plain": [
       "<keras.callbacks.History at 0x154892a30>"
      ]
     },
     "execution_count": 7,
     "metadata": {},
     "output_type": "execute_result"
    }
   ],
   "source": [
    "# Fit the model with numpy arrays where appropriate\n",
    "import tensorflow as tf\n",
    "\n",
    "\n",
    "model.fit(\n",
    "    [embeddings_train, np.array(X_train, \"float32\")],\n",
    "    [\n",
    "        np.array(y_train[\"useful\"], \"float32\"),\n",
    "        np.array(y_train[\"funny\"], \"float32\"),\n",
    "        np.array(y_train[\"cool\"], \"float32\"),\n",
    "    ],\n",
    "    epochs=10,\n",
    "    batch_size=32,\n",
    ")"
   ]
  },
  {
   "cell_type": "code",
   "execution_count": 8,
   "metadata": {},
   "outputs": [
    {
     "name": "stdout",
     "output_type": "stream",
     "text": [
      "1395/1395 [==============================] - 1s 735us/step - loss: 0.7230 - useful_loss: 0.2191 - funny_loss: 0.2856 - cool_loss: 0.2182 - useful_mae: 0.3522 - funny_mae: 0.5724 - cool_mae: 0.4704\n"
     ]
    },
    {
     "data": {
      "text/plain": [
       "[0.7229881286621094,\n",
       " 0.21914631128311157,\n",
       " 0.2856139838695526,\n",
       " 0.21822772920131683,\n",
       " 0.35215380787849426,\n",
       " 0.5724189281463623,\n",
       " 0.47042757272720337]"
      ]
     },
     "execution_count": 8,
     "metadata": {},
     "output_type": "execute_result"
    }
   ],
   "source": [
    "# test the model\n",
    "model.evaluate(\n",
    "    [embeddings_test, np.array(X_test, \"float32\")],\n",
    "    [\n",
    "        np.array(y_test[\"useful\"], \"float32\"),\n",
    "        np.array(y_test[\"funny\"], \"float32\"),\n",
    "        np.array(y_test[\"cool\"], \"float32\"),\n",
    "    ],\n",
    "    batch_size=32,\n",
    ")"
   ]
  },
  {
   "cell_type": "code",
   "execution_count": 9,
   "metadata": {},
   "outputs": [
    {
     "name": "stdout",
     "output_type": "stream",
     "text": [
      "1395/1395 [==============================] - 1s 641us/step\n"
     ]
    },
    {
     "data": {
      "text/plain": [
       "[array([[2.1335125],\n",
       "        [2.4742978],\n",
       "        [2.473797 ],\n",
       "        ...,\n",
       "        [2.1769643],\n",
       "        [2.2657447],\n",
       "        [2.2641191]], dtype=float32),\n",
       " array([[1.4107097],\n",
       "        [1.585256 ],\n",
       "        [1.3632984],\n",
       "        ...,\n",
       "        [1.3452603],\n",
       "        [1.6139908],\n",
       "        [1.7633919]], dtype=float32),\n",
       " array([[1.7412698],\n",
       "        [2.3082914],\n",
       "        [1.0105609],\n",
       "        ...,\n",
       "        [1.9044187],\n",
       "        [1.889236 ],\n",
       "        [2.0315876]], dtype=float32)]"
      ]
     },
     "execution_count": 9,
     "metadata": {},
     "output_type": "execute_result"
    }
   ],
   "source": [
    "model.predict(\n",
    "    [embeddings_test, np.array(X_test, \"float32\")],\n",
    "    batch_size=32,\n",
    ")"
   ]
  }
 ],
 "metadata": {
  "kernelspec": {
   "display_name": "keras",
   "language": "python",
   "name": "python3"
  },
  "language_info": {
   "codemirror_mode": {
    "name": "ipython",
    "version": 3
   },
   "file_extension": ".py",
   "mimetype": "text/x-python",
   "name": "python",
   "nbconvert_exporter": "python",
   "pygments_lexer": "ipython3",
   "version": "3.8.16"
  },
  "orig_nbformat": 4
 },
 "nbformat": 4,
 "nbformat_minor": 2
}
