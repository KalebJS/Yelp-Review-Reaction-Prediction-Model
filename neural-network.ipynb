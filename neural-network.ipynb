{
 "cells": [
  {
   "cell_type": "code",
   "execution_count": null,
   "metadata": {},
   "outputs": [],
   "source": [
    "import config as cfg\n",
    "import pandas as pd\n",
    "import numpy as np\n",
    "from keras.models import Sequential\n",
    "from keras.layers import Dense, Dropout, Activation\n",
    "from pathlib import Path\n",
    "from sklearn.model_selection import train_test_split\n",
    "import pickle"
   ]
  },
  {
   "cell_type": "code",
   "execution_count": null,
   "metadata": {},
   "outputs": [],
   "source": [
    "data = pd.read_pickle(cfg.PATHS.TRANSFORMED_DATA_PICKLE)\n",
    "data.shape"
   ]
  },
  {
   "cell_type": "code",
   "execution_count": null,
   "metadata": {},
   "outputs": [],
   "source": [
    "import keras.backend as K\n",
    "\n",
    "def custom_loss(y_true, y_pred):\n",
    "    # Compute the weight for each output based on the corresponding non-zero value of the predictor\n",
    "    predictor_weight = K.cast(K.not_equal(y_true, 0), dtype='float32')\n",
    "    \n",
    "    # Compute the weighted mean squared error loss\n",
    "    mse = K.mean(K.square(y_true - y_pred) * predictor_weight, axis=-1)\n",
    "    \n",
    "    return mse"
   ]
  },
  {
   "cell_type": "code",
   "execution_count": null,
   "metadata": {},
   "outputs": [],
   "source": [
    "from keras.layers import Input, Dense, Concatenate, Flatten\n",
    "from keras.models import Model\n",
    "\n",
    "# Define the input layers\n",
    "review_input = Input(shape=(embedding_dim,))\n",
    "predictor_input = Input(shape=(num_predictors,))\n",
    "\n",
    "# Concatenate the review text embedding and predictor inputs\n",
    "concatenated = Concatenate()([review_input, predictor_input])\n",
    "\n",
    "# Define the fully connected layers\n",
    "fc0 = Dense(256, activation='relu')(concatenated)\n",
    "fc1 = Dense(128, activation='relu')(fc0)\n",
    "fc2 = Dense(64, activation='relu')(fc1)\n",
    "fc3 = Dense(32, activation='relu')(fc2)\n",
    "\n",
    "# Define the output layers\n",
    "helpful_output = Dense(1, name='helpful')(fc3)\n",
    "funny_output = Dense(1, name='funny')(fc3)\n",
    "cool_output = Dense(1, name='cool')(fc3)\n",
    "\n",
    "# Define the model with multiple outputs\n",
    "model = Model(inputs=[review_input, predictor_input], outputs=[helpful_output, funny_output, cool_output])\n",
    "\n",
    "# Compile the model\n",
    "model.compile(optimizer='adam', loss=custom_loss, metrics=['mae'])\n"
   ]
  }
 ],
 "metadata": {
  "language_info": {
   "name": "python"
  },
  "orig_nbformat": 4
 },
 "nbformat": 4,
 "nbformat_minor": 2
}
