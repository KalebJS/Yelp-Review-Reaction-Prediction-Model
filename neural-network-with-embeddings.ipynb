{
 "cells": [
  {
   "cell_type": "code",
   "execution_count": 1,
   "metadata": {},
   "outputs": [],
   "source": [
    "import config as cfg\n",
    "import pandas as pd\n",
    "import numpy as np\n",
    "from keras.models import Sequential\n",
    "from keras.layers import Dense, Dropout, Activation\n",
    "from pathlib import Path\n",
    "from sklearn.model_selection import train_test_split\n",
    "import pickle"
   ]
  },
  {
   "cell_type": "code",
   "execution_count": 4,
   "metadata": {},
   "outputs": [],
   "source": [
    "df = pd.read_pickle(cfg.PATHS.OBJECTS_FOLDER / \"transformed_data_popular.pickle\")\n",
    "embeddings = pd.read_pickle(cfg.PATHS.OBJECTS_FOLDER / \"embeddings_popular.pkl\")"
   ]
  },
  {
   "cell_type": "code",
   "execution_count": null,
   "metadata": {},
   "outputs": [],
   "source": [
    "import keras.backend as K\n",
    "\n",
    "def custom_loss(y_true, y_pred):\n",
    "    # Compute the weight for each output based on the corresponding non-zero value of the predictor\n",
    "    predictor_weight = K.cast(K.not_equal(y_true, 0), dtype='float32')\n",
    "    \n",
    "    # Compute the weighted mean squared error loss\n",
    "    mse = K.mean(K.square(y_true - y_pred) * predictor_weight, axis=-1)\n",
    "    \n",
    "    return mse"
   ]
  },
  {
   "cell_type": "code",
   "execution_count": null,
   "metadata": {},
   "outputs": [],
   "source": [
    "from keras.layers import Input, Embedding, Dense, Concatenate, Flatten\n",
    "from keras.models import Model\n",
    "\n",
    "# Define the input layers\n",
    "review_input = Input(shape=(max_length,))\n",
    "predictor_input = Input(shape=(num_predictors,))\n",
    "\n",
    "# Define the embedding layer for the review text\n",
    "review_embedding = Embedding(input_dim=num_words, output_dim=embedding_dim, input_length=max_length)(review_input)\n",
    "review_flattened = Flatten()(review_embedding)\n",
    "\n",
    "# Concatenate the review text embedding and predictor inputs\n",
    "concatenated = Concatenate()([review_flattened, predictor_input])\n",
    "\n",
    "# Define the fully connected layers\n",
    "fc1 = Dense(128, activation='relu')(concatenated)\n",
    "fc2 = Dense(64, activation='relu')(fc1)\n",
    "fc3 = Dense(32, activation='relu')(fc2)\n",
    "\n",
    "# Define the output layers\n",
    "helpful_output = Dense(1, name='helpful')(fc3)\n",
    "funny_output = Dense(1, name='funny')(fc3)\n",
    "cool_output = Dense(1, name='cool')(fc3)\n",
    "\n",
    "# Define the model with multiple outputs\n",
    "model = Model(inputs=[review_input, predictor_input], outputs=[helpful_output, funny_output, cool_output])\n",
    "\n",
    "# Compile the model\n",
    "model.compile(optimizer='adam', loss=custom_loss, metrics=['mae'])"
   ]
  }
 ],
 "metadata": {
  "kernelspec": {
   "display_name": "keras",
   "language": "python",
   "name": "python3"
  },
  "language_info": {
   "codemirror_mode": {
    "name": "ipython",
    "version": 3
   },
   "file_extension": ".py",
   "mimetype": "text/x-python",
   "name": "python",
   "nbconvert_exporter": "python",
   "pygments_lexer": "ipython3",
   "version": "3.9.16"
  },
  "orig_nbformat": 4
 },
 "nbformat": 4,
 "nbformat_minor": 2
}
