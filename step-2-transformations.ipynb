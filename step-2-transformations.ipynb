{
 "cells": [
  {
   "cell_type": "code",
   "execution_count": 1,
   "metadata": {},
   "outputs": [],
   "source": [
    "import sqlite3\n",
    "\n",
    "import pandas as pd\n",
    "\n",
    "from paths import DB_FILE\n",
    "\n",
    "popular_reviews = pd.read_sql(\"SELECT * FROM popular_reviews\", sqlite3.connect(DB_FILE))\n",
    "unpopular_reviews = pd.read_sql(\"SELECT * FROM unpopular_reviews\", sqlite3.connect(DB_FILE))"
   ]
  },
  {
   "attachments": {},
   "cell_type": "markdown",
   "metadata": {},
   "source": [
    "## Reduce size of `unpopular_reviews` to size of `popular_reviews`\n",
    "Also, combine both into a single dataframe afterward to create one-hot encoding"
   ]
  },
  {
   "cell_type": "code",
   "execution_count": 2,
   "metadata": {},
   "outputs": [],
   "source": [
    "popular_reviews[\"is_popular\"] = 1\n",
    "unpopular_reviews[\"is_popular\"] = 0"
   ]
  },
  {
   "cell_type": "code",
   "execution_count": 3,
   "metadata": {},
   "outputs": [],
   "source": [
    "unpopular_reviews = unpopular_reviews.sample(n=popular_reviews.shape[0], random_state=42)"
   ]
  },
  {
   "cell_type": "code",
   "execution_count": 4,
   "metadata": {},
   "outputs": [
    {
     "data": {
      "text/plain": [
       "((261613, 12), (261613, 12))"
      ]
     },
     "execution_count": 4,
     "metadata": {},
     "output_type": "execute_result"
    }
   ],
   "source": [
    "unpopular_reviews.shape, popular_reviews.shape"
   ]
  },
  {
   "cell_type": "code",
   "execution_count": 5,
   "metadata": {},
   "outputs": [],
   "source": [
    "df = pd.concat([popular_reviews, unpopular_reviews], ignore_index=True)"
   ]
  },
  {
   "cell_type": "code",
   "execution_count": 6,
   "metadata": {},
   "outputs": [],
   "source": [
    "df[\"word_count\"] = df[\"text\"].apply(lambda x: len(x.split()))\n",
    "df[\"character_count\"] = df[\"text\"].apply(lambda x: len(x))"
   ]
  },
  {
   "attachments": {},
   "cell_type": "markdown",
   "metadata": {},
   "source": [
    "## Visualize predictors"
   ]
  },
  {
   "cell_type": "code",
   "execution_count": 7,
   "metadata": {},
   "outputs": [
    {
     "data": {
      "text/html": [
       "<div>\n",
       "<style scoped>\n",
       "    .dataframe tbody tr th:only-of-type {\n",
       "        vertical-align: middle;\n",
       "    }\n",
       "\n",
       "    .dataframe tbody tr th {\n",
       "        vertical-align: top;\n",
       "    }\n",
       "\n",
       "    .dataframe thead th {\n",
       "        text-align: right;\n",
       "    }\n",
       "</style>\n",
       "<table border=\"1\" class=\"dataframe\">\n",
       "  <thead>\n",
       "    <tr style=\"text-align: right;\">\n",
       "      <th></th>\n",
       "      <th>text</th>\n",
       "      <th>useful</th>\n",
       "      <th>funny</th>\n",
       "      <th>cool</th>\n",
       "      <th>review_age</th>\n",
       "      <th>review_stars</th>\n",
       "      <th>city</th>\n",
       "      <th>stars</th>\n",
       "      <th>review_count</th>\n",
       "      <th>fans</th>\n",
       "      <th>account_age</th>\n",
       "      <th>is_popular</th>\n",
       "      <th>word_count</th>\n",
       "      <th>character_count</th>\n",
       "    </tr>\n",
       "  </thead>\n",
       "  <tbody>\n",
       "    <tr>\n",
       "      <th>0</th>\n",
       "      <td>I LOVE Weaver's Way and really disagree with s...</td>\n",
       "      <td>7</td>\n",
       "      <td>0</td>\n",
       "      <td>3</td>\n",
       "      <td>4795</td>\n",
       "      <td>5</td>\n",
       "      <td>Philadelphia</td>\n",
       "      <td>4.5</td>\n",
       "      <td>286.0</td>\n",
       "      <td>18.0</td>\n",
       "      <td>4937.0</td>\n",
       "      <td>1</td>\n",
       "      <td>270</td>\n",
       "      <td>1494</td>\n",
       "    </tr>\n",
       "    <tr>\n",
       "      <th>1</th>\n",
       "      <td>I took the beginning class there, and I loved ...</td>\n",
       "      <td>15</td>\n",
       "      <td>0</td>\n",
       "      <td>2</td>\n",
       "      <td>3009</td>\n",
       "      <td>5</td>\n",
       "      <td>Tampa</td>\n",
       "      <td>5.0</td>\n",
       "      <td>32.0</td>\n",
       "      <td>4.0</td>\n",
       "      <td>3784.0</td>\n",
       "      <td>1</td>\n",
       "      <td>59</td>\n",
       "      <td>317</td>\n",
       "    </tr>\n",
       "    <tr>\n",
       "      <th>2</th>\n",
       "      <td>Men's clubs is the tits, plain and simple. All...</td>\n",
       "      <td>3</td>\n",
       "      <td>4</td>\n",
       "      <td>3</td>\n",
       "      <td>2867</td>\n",
       "      <td>5</td>\n",
       "      <td>Philadelphia</td>\n",
       "      <td>4.5</td>\n",
       "      <td>5.0</td>\n",
       "      <td>0.0</td>\n",
       "      <td>3073.0</td>\n",
       "      <td>1</td>\n",
       "      <td>63</td>\n",
       "      <td>314</td>\n",
       "    </tr>\n",
       "    <tr>\n",
       "      <th>3</th>\n",
       "      <td>Came in after attending the Zurich Classic gol...</td>\n",
       "      <td>5</td>\n",
       "      <td>2</td>\n",
       "      <td>4</td>\n",
       "      <td>3179</td>\n",
       "      <td>4</td>\n",
       "      <td>New Orleans</td>\n",
       "      <td>4.5</td>\n",
       "      <td>1708.0</td>\n",
       "      <td>513.0</td>\n",
       "      <td>4382.0</td>\n",
       "      <td>1</td>\n",
       "      <td>92</td>\n",
       "      <td>485</td>\n",
       "    </tr>\n",
       "    <tr>\n",
       "      <th>4</th>\n",
       "      <td>This small little donut bakery is located in o...</td>\n",
       "      <td>14</td>\n",
       "      <td>6</td>\n",
       "      <td>9</td>\n",
       "      <td>2924</td>\n",
       "      <td>5</td>\n",
       "      <td>Hermitage</td>\n",
       "      <td>4.5</td>\n",
       "      <td>151.0</td>\n",
       "      <td>43.0</td>\n",
       "      <td>3882.0</td>\n",
       "      <td>1</td>\n",
       "      <td>155</td>\n",
       "      <td>932</td>\n",
       "    </tr>\n",
       "  </tbody>\n",
       "</table>\n",
       "</div>"
      ],
      "text/plain": [
       "                                                text  useful  funny  cool  \\\n",
       "0  I LOVE Weaver's Way and really disagree with s...       7      0     3   \n",
       "1  I took the beginning class there, and I loved ...      15      0     2   \n",
       "2  Men's clubs is the tits, plain and simple. All...       3      4     3   \n",
       "3  Came in after attending the Zurich Classic gol...       5      2     4   \n",
       "4  This small little donut bakery is located in o...      14      6     9   \n",
       "\n",
       "   review_age  review_stars          city  stars  review_count   fans  \\\n",
       "0        4795             5  Philadelphia    4.5         286.0   18.0   \n",
       "1        3009             5         Tampa    5.0          32.0    4.0   \n",
       "2        2867             5  Philadelphia    4.5           5.0    0.0   \n",
       "3        3179             4   New Orleans    4.5        1708.0  513.0   \n",
       "4        2924             5     Hermitage    4.5         151.0   43.0   \n",
       "\n",
       "   account_age  is_popular  word_count  character_count  \n",
       "0       4937.0           1         270             1494  \n",
       "1       3784.0           1          59              317  \n",
       "2       3073.0           1          63              314  \n",
       "3       4382.0           1          92              485  \n",
       "4       3882.0           1         155              932  "
      ]
     },
     "execution_count": 7,
     "metadata": {},
     "output_type": "execute_result"
    }
   ],
   "source": [
    "df.head()"
   ]
  },
  {
   "cell_type": "code",
   "execution_count": 8,
   "metadata": {},
   "outputs": [
    {
     "data": {
      "image/png": "[encoded data removed]",
      "text/plain": [
       "<Figure size 640x480 with 1 Axes>"
      ]
     },
     "metadata": {},
     "output_type": "display_data"
    },
    {
     "data": {
      "image/png": "[encoded data removed]",
      "text/plain": [
       "<Figure size 640x480 with 1 Axes>"
      ]
     },
     "metadata": {},
     "output_type": "display_data"
    }
   ],
   "source": [
    "from matplotlib import pyplot as plt\n",
    "import numpy as np\n",
    "\n",
    "# histogram of review lengths\n",
    "plt.hist(np.log(df[\"word_count\"]), bins=100)\n",
    "plt.show()\n",
    "plt.hist(np.log(df[\"character_count\"]), bins=100)\n",
    "plt.show()\n",
    "\n",
    "df[\"log_word_count\"] = np.log(df[\"word_count\"])\n",
    "df[\"log_character_count\"] = np.log(df[\"character_count\"])"
   ]
  },
  {
   "cell_type": "code",
   "execution_count": 9,
   "metadata": {},
   "outputs": [
    {
     "data": {
      "image/png": "[encoded data removed]",
      "text/plain": [
       "<Figure size 640x480 with 1 Axes>"
      ]
     },
     "metadata": {},
     "output_type": "display_data"
    },
    {
     "data": {
      "image/png": "[encoded data removed]",
      "text/plain": [
       "<Figure size 640x480 with 1 Axes>"
      ]
     },
     "metadata": {},
     "output_type": "display_data"
    },
    {
     "data": {
      "image/png": "[encoded data removed]",
      "text/plain": [
       "<Figure size 640x480 with 1 Axes>"
      ]
     },
     "metadata": {},
     "output_type": "display_data"
    }
   ],
   "source": [
    "import numpy as np\n",
    "\n",
    "\n",
    "plt.hist(np.log(popular_reviews[\"useful\"] + 1), bins=100)\n",
    "plt.show()\n",
    "plt.hist(np.log(popular_reviews[\"funny\"] + 1), bins=100)\n",
    "plt.show()\n",
    "plt.hist(np.log(popular_reviews[\"cool\"] + 1), bins=100)\n",
    "plt.show()\n",
    "\n",
    "df[\"log_useful\"] = np.log(df[\"useful\"] + 1)\n",
    "df[\"log_funny\"] = np.log(df[\"funny\"] + 1)\n",
    "df[\"log_cool\"] = np.log(df[\"cool\"] + 1)"
   ]
  },
  {
   "cell_type": "code",
   "execution_count": 10,
   "metadata": {},
   "outputs": [
    {
     "data": {
      "image/png": "[encoded data removed]",
      "text/plain": [
       "<Figure size 640x480 with 1 Axes>"
      ]
     },
     "metadata": {},
     "output_type": "display_data"
    }
   ],
   "source": [
    "plt.hist(df[\"review_age\"], bins=100)\n",
    "plt.show()"
   ]
  },
  {
   "cell_type": "code",
   "execution_count": 11,
   "metadata": {},
   "outputs": [
    {
     "data": {
      "image/png": "[encoded data removed]",
      "text/plain": [
       "<Figure size 640x480 with 1 Axes>"
      ]
     },
     "metadata": {},
     "output_type": "display_data"
    },
    {
     "data": {
      "image/png": "[encoded data removed]",
      "text/plain": [
       "<Figure size 640x480 with 1 Axes>"
      ]
     },
     "metadata": {},
     "output_type": "display_data"
    },
    {
     "data": {
      "image/png": "[encoded data removed]",
      "text/plain": [
       "<Figure size 640x480 with 1 Axes>"
      ]
     },
     "metadata": {},
     "output_type": "display_data"
    }
   ],
   "source": [
    "plt.hist(np.log(df[\"review_count\"] + 1), bins=100)\n",
    "plt.show()\n",
    "plt.hist(df[\"account_age\"], bins=100)\n",
    "plt.show()\n",
    "plt.hist(np.log(df[\"fans\"] + 1), bins=100)\n",
    "plt.show()\n",
    "\n",
    "df[\"log_review_count\"] = np.log(df[\"review_count\"] + 1)\n",
    "df[\"log_fans\"] = np.log(df[\"fans\"] + 1)"
   ]
  },
  {
   "cell_type": "code",
   "execution_count": 12,
   "metadata": {},
   "outputs": [
    {
     "data": {
      "text/html": [
       "<div>\n",
       "<style scoped>\n",
       "    .dataframe tbody tr th:only-of-type {\n",
       "        vertical-align: middle;\n",
       "    }\n",
       "\n",
       "    .dataframe tbody tr th {\n",
       "        vertical-align: top;\n",
       "    }\n",
       "\n",
       "    .dataframe thead th {\n",
       "        text-align: right;\n",
       "    }\n",
       "</style>\n",
       "<table border=\"1\" class=\"dataframe\">\n",
       "  <thead>\n",
       "    <tr style=\"text-align: right;\">\n",
       "      <th></th>\n",
       "      <th>text</th>\n",
       "      <th>useful</th>\n",
       "      <th>funny</th>\n",
       "      <th>cool</th>\n",
       "      <th>review_age</th>\n",
       "      <th>review_stars</th>\n",
       "      <th>city</th>\n",
       "      <th>stars</th>\n",
       "      <th>review_count</th>\n",
       "      <th>fans</th>\n",
       "      <th>...</th>\n",
       "      <th>is_popular</th>\n",
       "      <th>word_count</th>\n",
       "      <th>character_count</th>\n",
       "      <th>log_word_count</th>\n",
       "      <th>log_character_count</th>\n",
       "      <th>log_useful</th>\n",
       "      <th>log_funny</th>\n",
       "      <th>log_cool</th>\n",
       "      <th>log_review_count</th>\n",
       "      <th>log_fans</th>\n",
       "    </tr>\n",
       "  </thead>\n",
       "  <tbody>\n",
       "    <tr>\n",
       "      <th>0</th>\n",
       "      <td>I LOVE Weaver's Way and really disagree with s...</td>\n",
       "      <td>7</td>\n",
       "      <td>0</td>\n",
       "      <td>3</td>\n",
       "      <td>4795</td>\n",
       "      <td>5</td>\n",
       "      <td>Philadelphia</td>\n",
       "      <td>4.5</td>\n",
       "      <td>286.0</td>\n",
       "      <td>18.0</td>\n",
       "      <td>...</td>\n",
       "      <td>1</td>\n",
       "      <td>270</td>\n",
       "      <td>1494</td>\n",
       "      <td>5.598422</td>\n",
       "      <td>7.309212</td>\n",
       "      <td>2.079442</td>\n",
       "      <td>0.000000</td>\n",
       "      <td>1.386294</td>\n",
       "      <td>5.659482</td>\n",
       "      <td>2.944439</td>\n",
       "    </tr>\n",
       "    <tr>\n",
       "      <th>1</th>\n",
       "      <td>I took the beginning class there, and I loved ...</td>\n",
       "      <td>15</td>\n",
       "      <td>0</td>\n",
       "      <td>2</td>\n",
       "      <td>3009</td>\n",
       "      <td>5</td>\n",
       "      <td>Tampa</td>\n",
       "      <td>5.0</td>\n",
       "      <td>32.0</td>\n",
       "      <td>4.0</td>\n",
       "      <td>...</td>\n",
       "      <td>1</td>\n",
       "      <td>59</td>\n",
       "      <td>317</td>\n",
       "      <td>4.077537</td>\n",
       "      <td>5.758902</td>\n",
       "      <td>2.772589</td>\n",
       "      <td>0.000000</td>\n",
       "      <td>1.098612</td>\n",
       "      <td>3.496508</td>\n",
       "      <td>1.609438</td>\n",
       "    </tr>\n",
       "    <tr>\n",
       "      <th>2</th>\n",
       "      <td>Men's clubs is the tits, plain and simple. All...</td>\n",
       "      <td>3</td>\n",
       "      <td>4</td>\n",
       "      <td>3</td>\n",
       "      <td>2867</td>\n",
       "      <td>5</td>\n",
       "      <td>Philadelphia</td>\n",
       "      <td>4.5</td>\n",
       "      <td>5.0</td>\n",
       "      <td>0.0</td>\n",
       "      <td>...</td>\n",
       "      <td>1</td>\n",
       "      <td>63</td>\n",
       "      <td>314</td>\n",
       "      <td>4.143135</td>\n",
       "      <td>5.749393</td>\n",
       "      <td>1.386294</td>\n",
       "      <td>1.609438</td>\n",
       "      <td>1.386294</td>\n",
       "      <td>1.791759</td>\n",
       "      <td>0.000000</td>\n",
       "    </tr>\n",
       "    <tr>\n",
       "      <th>3</th>\n",
       "      <td>Came in after attending the Zurich Classic gol...</td>\n",
       "      <td>5</td>\n",
       "      <td>2</td>\n",
       "      <td>4</td>\n",
       "      <td>3179</td>\n",
       "      <td>4</td>\n",
       "      <td>New Orleans</td>\n",
       "      <td>4.5</td>\n",
       "      <td>1708.0</td>\n",
       "      <td>513.0</td>\n",
       "      <td>...</td>\n",
       "      <td>1</td>\n",
       "      <td>92</td>\n",
       "      <td>485</td>\n",
       "      <td>4.521789</td>\n",
       "      <td>6.184149</td>\n",
       "      <td>1.791759</td>\n",
       "      <td>1.098612</td>\n",
       "      <td>1.609438</td>\n",
       "      <td>7.443664</td>\n",
       "      <td>6.242223</td>\n",
       "    </tr>\n",
       "    <tr>\n",
       "      <th>4</th>\n",
       "      <td>This small little donut bakery is located in o...</td>\n",
       "      <td>14</td>\n",
       "      <td>6</td>\n",
       "      <td>9</td>\n",
       "      <td>2924</td>\n",
       "      <td>5</td>\n",
       "      <td>Hermitage</td>\n",
       "      <td>4.5</td>\n",
       "      <td>151.0</td>\n",
       "      <td>43.0</td>\n",
       "      <td>...</td>\n",
       "      <td>1</td>\n",
       "      <td>155</td>\n",
       "      <td>932</td>\n",
       "      <td>5.043425</td>\n",
       "      <td>6.837333</td>\n",
       "      <td>2.708050</td>\n",
       "      <td>1.945910</td>\n",
       "      <td>2.302585</td>\n",
       "      <td>5.023881</td>\n",
       "      <td>3.784190</td>\n",
       "    </tr>\n",
       "  </tbody>\n",
       "</table>\n",
       "<p>5 rows × 21 columns</p>\n",
       "</div>"
      ],
      "text/plain": [
       "                                                text  useful  funny  cool  \\\n",
       "0  I LOVE Weaver's Way and really disagree with s...       7      0     3   \n",
       "1  I took the beginning class there, and I loved ...      15      0     2   \n",
       "2  Men's clubs is the tits, plain and simple. All...       3      4     3   \n",
       "3  Came in after attending the Zurich Classic gol...       5      2     4   \n",
       "4  This small little donut bakery is located in o...      14      6     9   \n",
       "\n",
       "   review_age  review_stars          city  stars  review_count   fans  ...  \\\n",
       "0        4795             5  Philadelphia    4.5         286.0   18.0  ...   \n",
       "1        3009             5         Tampa    5.0          32.0    4.0  ...   \n",
       "2        2867             5  Philadelphia    4.5           5.0    0.0  ...   \n",
       "3        3179             4   New Orleans    4.5        1708.0  513.0  ...   \n",
       "4        2924             5     Hermitage    4.5         151.0   43.0  ...   \n",
       "\n",
       "   is_popular  word_count  character_count  log_word_count  \\\n",
       "0           1         270             1494        5.598422   \n",
       "1           1          59              317        4.077537   \n",
       "2           1          63              314        4.143135   \n",
       "3           1          92              485        4.521789   \n",
       "4           1         155              932        5.043425   \n",
       "\n",
       "   log_character_count  log_useful  log_funny  log_cool  log_review_count  \\\n",
       "0             7.309212    2.079442   0.000000  1.386294          5.659482   \n",
       "1             5.758902    2.772589   0.000000  1.098612          3.496508   \n",
       "2             5.749393    1.386294   1.609438  1.386294          1.791759   \n",
       "3             6.184149    1.791759   1.098612  1.609438          7.443664   \n",
       "4             6.837333    2.708050   1.945910  2.302585          5.023881   \n",
       "\n",
       "   log_fans  \n",
       "0  2.944439  \n",
       "1  1.609438  \n",
       "2  0.000000  \n",
       "3  6.242223  \n",
       "4  3.784190  \n",
       "\n",
       "[5 rows x 21 columns]"
      ]
     },
     "execution_count": 12,
     "metadata": {},
     "output_type": "execute_result"
    }
   ],
   "source": [
    "df.head()"
   ]
  },
  {
   "attachments": {},
   "cell_type": "markdown",
   "metadata": {},
   "source": [
    "## Create a one-hot encoding for `city` category"
   ]
  },
  {
   "cell_type": "code",
   "execution_count": 6,
   "metadata": {},
   "outputs": [
    {
     "data": {
      "text/plain": [
       "(523226, 1173)"
      ]
     },
     "execution_count": 6,
     "metadata": {},
     "output_type": "execute_result"
    }
   ],
   "source": [
    "df = pd.get_dummies(df, columns=[\"city\"])\n",
    "df.shape"
   ]
  },
  {
   "attachments": {},
   "cell_type": "markdown",
   "metadata": {},
   "source": [
    "## create sentence embeddings"
   ]
  },
  {
   "cell_type": "code",
   "execution_count": 13,
   "metadata": {},
   "outputs": [],
   "source": [
    "from sentence_transformers import SentenceTransformer\n",
    "\n",
    "model = SentenceTransformer('bert-base-nli-mean-tokens')"
   ]
  },
  {
   "cell_type": "code",
   "execution_count": 14,
   "metadata": {},
   "outputs": [
    {
     "data": {
      "application/vnd.jupyter.widget-view+json": {
       "model_id": "47059cfff7594fd9b4e7f59a291a83a0",
       "version_major": 2,
       "version_minor": 0
      },
      "text/plain": [
       "Batches:   0%|          | 0/16351 [00:00<?, ?it/s]"
      ]
     },
     "metadata": {},
     "output_type": "display_data"
    }
   ],
   "source": [
    "embeddings = model.encode(df[\"text\"].tolist(), show_progress_bar=True)"
   ]
  },
  {
   "attachments": {},
   "cell_type": "markdown",
   "metadata": {},
   "source": [
    "## create sentiment analysis"
   ]
  },
  {
   "cell_type": "code",
   "execution_count": 24,
   "metadata": {},
   "outputs": [],
   "source": [
    "import pandas as pd\n",
    "import nltk\n",
    "from nltk.sentiment.vader import SentimentIntensityAnalyzer\n",
    "from nltk.corpus import stopwords\n",
    "from nltk.tokenize import word_tokenize\n",
    "from nltk.stem import WordNetLemmatizer\n",
    "from tqdm import tqdm\n",
    "\n",
    "tqdm.pandas()\n",
    "\n",
    "\n",
    "df_sentiment = df[[\"text\"]].copy()"
   ]
  },
  {
   "cell_type": "code",
   "execution_count": 25,
   "metadata": {},
   "outputs": [
    {
     "name": "stderr",
     "output_type": "stream",
     "text": [
      "100%|██████████| 523226/523226 [07:55<00:00, 1100.86it/s] \n"
     ]
    }
   ],
   "source": [
    "df_sentiment[\"tokens\"] = df_sentiment[\"text\"].progress_apply(lambda x: word_tokenize(x))"
   ]
  },
  {
   "cell_type": "code",
   "execution_count": 26,
   "metadata": {},
   "outputs": [
    {
     "name": "stderr",
     "output_type": "stream",
     "text": [
      "100%|██████████| 523226/523226 [02:43<00:00, 3194.50it/s] \n"
     ]
    }
   ],
   "source": [
    "stopwords = stopwords.words('english')\n",
    "df_sentiment[\"filtered_tokens\"] = df_sentiment[\"tokens\"].progress_apply(lambda x: [word for word in x if word not in stopwords])"
   ]
  },
  {
   "cell_type": "code",
   "execution_count": 27,
   "metadata": {},
   "outputs": [
    {
     "name": "stderr",
     "output_type": "stream",
     "text": [
      "100%|██████████| 523226/523226 [02:59<00:00, 2910.22it/s]\n"
     ]
    }
   ],
   "source": [
    "lemmatizer = WordNetLemmatizer()\n",
    "df_sentiment[\"lemmatized_tokens\"] = df_sentiment[\"filtered_tokens\"].progress_apply(lambda x: [lemmatizer.lemmatize(word) for word in x])"
   ]
  },
  {
   "cell_type": "code",
   "execution_count": 33,
   "metadata": {},
   "outputs": [
    {
     "data": {
      "text/html": [
       "<div>\n",
       "<style scoped>\n",
       "    .dataframe tbody tr th:only-of-type {\n",
       "        vertical-align: middle;\n",
       "    }\n",
       "\n",
       "    .dataframe tbody tr th {\n",
       "        vertical-align: top;\n",
       "    }\n",
       "\n",
       "    .dataframe thead th {\n",
       "        text-align: right;\n",
       "    }\n",
       "</style>\n",
       "<table border=\"1\" class=\"dataframe\">\n",
       "  <thead>\n",
       "    <tr style=\"text-align: right;\">\n",
       "      <th></th>\n",
       "      <th>text</th>\n",
       "      <th>tokens</th>\n",
       "      <th>filtered_tokens</th>\n",
       "      <th>lemmatized_tokens</th>\n",
       "      <th>sentiment_scores</th>\n",
       "      <th>sentiment</th>\n",
       "    </tr>\n",
       "  </thead>\n",
       "  <tbody>\n",
       "    <tr>\n",
       "      <th>0</th>\n",
       "      <td>I LOVE Weaver's Way and really disagree with s...</td>\n",
       "      <td>[I, LOVE, Weaver, 's, Way, and, really, disagr...</td>\n",
       "      <td>[I, LOVE, Weaver, 's, Way, really, disagree, c...</td>\n",
       "      <td>[I, LOVE, Weaver, 's, Way, really, disagree, c...</td>\n",
       "      <td>{'neg': 0.077, 'neu': 0.735, 'pos': 0.188, 'co...</td>\n",
       "      <td>0.9665</td>\n",
       "    </tr>\n",
       "    <tr>\n",
       "      <th>1</th>\n",
       "      <td>I took the beginning class there, and I loved ...</td>\n",
       "      <td>[I, took, the, beginning, class, there, ,, and...</td>\n",
       "      <td>[I, took, beginning, class, ,, I, loved, ., It...</td>\n",
       "      <td>[I, took, beginning, class, ,, I, loved, ., It...</td>\n",
       "      <td>{'neg': 0.039, 'neu': 0.553, 'pos': 0.408, 'co...</td>\n",
       "      <td>0.9586</td>\n",
       "    </tr>\n",
       "    <tr>\n",
       "      <th>2</th>\n",
       "      <td>Men's clubs is the tits, plain and simple. All...</td>\n",
       "      <td>[Men, 's, clubs, is, the, tits, ,, plain, and,...</td>\n",
       "      <td>[Men, 's, clubs, tits, ,, plain, simple, ., Al...</td>\n",
       "      <td>[Men, 's, club, tit, ,, plain, simple, ., All,...</td>\n",
       "      <td>{'neg': 0.148, 'neu': 0.702, 'pos': 0.15, 'com...</td>\n",
       "      <td>0.0150</td>\n",
       "    </tr>\n",
       "    <tr>\n",
       "      <th>3</th>\n",
       "      <td>Came in after attending the Zurich Classic gol...</td>\n",
       "      <td>[Came, in, after, attending, the, Zurich, Clas...</td>\n",
       "      <td>[Came, attending, Zurich, Classic, golf, tourn...</td>\n",
       "      <td>[Came, attending, Zurich, Classic, golf, tourn...</td>\n",
       "      <td>{'neg': 0.071, 'neu': 0.637, 'pos': 0.292, 'co...</td>\n",
       "      <td>0.9232</td>\n",
       "    </tr>\n",
       "    <tr>\n",
       "      <th>4</th>\n",
       "      <td>This small little donut bakery is located in o...</td>\n",
       "      <td>[This, small, little, donut, bakery, is, locat...</td>\n",
       "      <td>[This, small, little, donut, bakery, located, ...</td>\n",
       "      <td>[This, small, little, donut, bakery, located, ...</td>\n",
       "      <td>{'neg': 0.055, 'neu': 0.709, 'pos': 0.235, 'co...</td>\n",
       "      <td>0.9685</td>\n",
       "    </tr>\n",
       "    <tr>\n",
       "      <th>...</th>\n",
       "      <td>...</td>\n",
       "      <td>...</td>\n",
       "      <td>...</td>\n",
       "      <td>...</td>\n",
       "      <td>...</td>\n",
       "      <td>...</td>\n",
       "    </tr>\n",
       "    <tr>\n",
       "      <th>523221</th>\n",
       "      <td>Sadly, the food and service were subpar at Gas...</td>\n",
       "      <td>[Sadly, ,, the, food, and, service, were, subp...</td>\n",
       "      <td>[Sadly, ,, food, service, subpar, Gaslight, .,...</td>\n",
       "      <td>[Sadly, ,, food, service, subpar, Gaslight, .,...</td>\n",
       "      <td>{'neg': 0.077, 'neu': 0.798, 'pos': 0.125, 'co...</td>\n",
       "      <td>0.9069</td>\n",
       "    </tr>\n",
       "    <tr>\n",
       "      <th>523222</th>\n",
       "      <td>Recently went here for the first time. It's a ...</td>\n",
       "      <td>[Recently, went, here, for, the, first, time, ...</td>\n",
       "      <td>[Recently, went, first, time, ., It, 's, cute,...</td>\n",
       "      <td>[Recently, went, first, time, ., It, 's, cute,...</td>\n",
       "      <td>{'neg': 0.0, 'neu': 0.59, 'pos': 0.41, 'compou...</td>\n",
       "      <td>0.9357</td>\n",
       "    </tr>\n",
       "    <tr>\n",
       "      <th>523223</th>\n",
       "      <td>What a joke. $15 for some shrimp cocktail. $40...</td>\n",
       "      <td>[What, a, joke, ., $, 15, for, some, shrimp, c...</td>\n",
       "      <td>[What, joke, ., $, 15, shrimp, cocktail, ., $,...</td>\n",
       "      <td>[What, joke, ., $, 15, shrimp, cocktail, ., $,...</td>\n",
       "      <td>{'neg': 0.081, 'neu': 0.777, 'pos': 0.142, 'co...</td>\n",
       "      <td>0.2263</td>\n",
       "    </tr>\n",
       "    <tr>\n",
       "      <th>523224</th>\n",
       "      <td>History + free air conditioning in olde city :...</td>\n",
       "      <td>[History, +, free, air, conditioning, in, olde...</td>\n",
       "      <td>[History, +, free, air, conditioning, olde, ci...</td>\n",
       "      <td>[History, +, free, air, conditioning, olde, ci...</td>\n",
       "      <td>{'neg': 0.0, 'neu': 0.772, 'pos': 0.228, 'comp...</td>\n",
       "      <td>0.9100</td>\n",
       "    </tr>\n",
       "    <tr>\n",
       "      <th>523225</th>\n",
       "      <td>Preservation Hall is perhaps the highlight of ...</td>\n",
       "      <td>[Preservation, Hall, is, perhaps, the, highlig...</td>\n",
       "      <td>[Preservation, Hall, perhaps, highlight, entir...</td>\n",
       "      <td>[Preservation, Hall, perhaps, highlight, entir...</td>\n",
       "      <td>{'neg': 0.046, 'neu': 0.654, 'pos': 0.3, 'comp...</td>\n",
       "      <td>0.9769</td>\n",
       "    </tr>\n",
       "  </tbody>\n",
       "</table>\n",
       "<p>523226 rows × 6 columns</p>\n",
       "</div>"
      ],
      "text/plain": [
       "                                                     text  \\\n",
       "0       I LOVE Weaver's Way and really disagree with s...   \n",
       "1       I took the beginning class there, and I loved ...   \n",
       "2       Men's clubs is the tits, plain and simple. All...   \n",
       "3       Came in after attending the Zurich Classic gol...   \n",
       "4       This small little donut bakery is located in o...   \n",
       "...                                                   ...   \n",
       "523221  Sadly, the food and service were subpar at Gas...   \n",
       "523222  Recently went here for the first time. It's a ...   \n",
       "523223  What a joke. $15 for some shrimp cocktail. $40...   \n",
       "523224  History + free air conditioning in olde city :...   \n",
       "523225  Preservation Hall is perhaps the highlight of ...   \n",
       "\n",
       "                                                   tokens  \\\n",
       "0       [I, LOVE, Weaver, 's, Way, and, really, disagr...   \n",
       "1       [I, took, the, beginning, class, there, ,, and...   \n",
       "2       [Men, 's, clubs, is, the, tits, ,, plain, and,...   \n",
       "3       [Came, in, after, attending, the, Zurich, Clas...   \n",
       "4       [This, small, little, donut, bakery, is, locat...   \n",
       "...                                                   ...   \n",
       "523221  [Sadly, ,, the, food, and, service, were, subp...   \n",
       "523222  [Recently, went, here, for, the, first, time, ...   \n",
       "523223  [What, a, joke, ., $, 15, for, some, shrimp, c...   \n",
       "523224  [History, +, free, air, conditioning, in, olde...   \n",
       "523225  [Preservation, Hall, is, perhaps, the, highlig...   \n",
       "\n",
       "                                          filtered_tokens  \\\n",
       "0       [I, LOVE, Weaver, 's, Way, really, disagree, c...   \n",
       "1       [I, took, beginning, class, ,, I, loved, ., It...   \n",
       "2       [Men, 's, clubs, tits, ,, plain, simple, ., Al...   \n",
       "3       [Came, attending, Zurich, Classic, golf, tourn...   \n",
       "4       [This, small, little, donut, bakery, located, ...   \n",
       "...                                                   ...   \n",
       "523221  [Sadly, ,, food, service, subpar, Gaslight, .,...   \n",
       "523222  [Recently, went, first, time, ., It, 's, cute,...   \n",
       "523223  [What, joke, ., $, 15, shrimp, cocktail, ., $,...   \n",
       "523224  [History, +, free, air, conditioning, olde, ci...   \n",
       "523225  [Preservation, Hall, perhaps, highlight, entir...   \n",
       "\n",
       "                                        lemmatized_tokens  \\\n",
       "0       [I, LOVE, Weaver, 's, Way, really, disagree, c...   \n",
       "1       [I, took, beginning, class, ,, I, loved, ., It...   \n",
       "2       [Men, 's, club, tit, ,, plain, simple, ., All,...   \n",
       "3       [Came, attending, Zurich, Classic, golf, tourn...   \n",
       "4       [This, small, little, donut, bakery, located, ...   \n",
       "...                                                   ...   \n",
       "523221  [Sadly, ,, food, service, subpar, Gaslight, .,...   \n",
       "523222  [Recently, went, first, time, ., It, 's, cute,...   \n",
       "523223  [What, joke, ., $, 15, shrimp, cocktail, ., $,...   \n",
       "523224  [History, +, free, air, conditioning, olde, ci...   \n",
       "523225  [Preservation, Hall, perhaps, highlight, entir...   \n",
       "\n",
       "                                         sentiment_scores  sentiment  \n",
       "0       {'neg': 0.077, 'neu': 0.735, 'pos': 0.188, 'co...     0.9665  \n",
       "1       {'neg': 0.039, 'neu': 0.553, 'pos': 0.408, 'co...     0.9586  \n",
       "2       {'neg': 0.148, 'neu': 0.702, 'pos': 0.15, 'com...     0.0150  \n",
       "3       {'neg': 0.071, 'neu': 0.637, 'pos': 0.292, 'co...     0.9232  \n",
       "4       {'neg': 0.055, 'neu': 0.709, 'pos': 0.235, 'co...     0.9685  \n",
       "...                                                   ...        ...  \n",
       "523221  {'neg': 0.077, 'neu': 0.798, 'pos': 0.125, 'co...     0.9069  \n",
       "523222  {'neg': 0.0, 'neu': 0.59, 'pos': 0.41, 'compou...     0.9357  \n",
       "523223  {'neg': 0.081, 'neu': 0.777, 'pos': 0.142, 'co...     0.2263  \n",
       "523224  {'neg': 0.0, 'neu': 0.772, 'pos': 0.228, 'comp...     0.9100  \n",
       "523225  {'neg': 0.046, 'neu': 0.654, 'pos': 0.3, 'comp...     0.9769  \n",
       "\n",
       "[523226 rows x 6 columns]"
      ]
     },
     "execution_count": 33,
     "metadata": {},
     "output_type": "execute_result"
    }
   ],
   "source": [
    "df_sentiment"
   ]
  },
  {
   "cell_type": "code",
   "execution_count": 30,
   "metadata": {},
   "outputs": [
    {
     "name": "stderr",
     "output_type": "stream",
     "text": [
      "100%|██████████| 523226/523226 [04:24<00:00, 1977.25it/s]\n",
      "100%|██████████| 523226/523226 [00:00<00:00, 1753321.10it/s]\n"
     ]
    }
   ],
   "source": [
    "sid = SentimentIntensityAnalyzer()\n",
    "df_sentiment[\"sentiment_scores\"] = df_sentiment[\"lemmatized_tokens\"].progress_apply(lambda x: sid.polarity_scores(' '.join(x)))\n",
    "df_sentiment[\"sentiment\"] = df_sentiment[\"sentiment_scores\"].progress_apply(lambda x: x[\"compound\"])"
   ]
  },
  {
   "cell_type": "code",
   "execution_count": 31,
   "metadata": {},
   "outputs": [],
   "source": [
    "sentiment = df_sentiment[\"sentiment\"].values.reshape(-1, 1)"
   ]
  },
  {
   "attachments": {},
   "cell_type": "markdown",
   "metadata": {},
   "source": [
    "## output everything"
   ]
  },
  {
   "cell_type": "code",
   "execution_count": 32,
   "metadata": {},
   "outputs": [],
   "source": [
    "import pickle\n",
    "\n",
    "from paths import OBJECTS_FOLDER\n",
    "\n",
    "\n",
    "with open(OBJECTS_FOLDER / \"embeddings.pkl\", \"wb\") as f:\n",
    "    pickle.dump(embeddings, f)\n",
    "\n",
    "with open(OBJECTS_FOLDER / \"sentiment.pkl\", \"wb\") as f:\n",
    "    pickle.dump(sentiment, f)\n",
    "\n",
    "df.to_pickle(OBJECTS_FOLDER / \"reviews.pkl\")"
   ]
  }
 ],
 "metadata": {
  "kernelspec": {
   "display_name": "nlp",
   "language": "python",
   "name": "python3"
  },
  "language_info": {
   "codemirror_mode": {
    "name": "ipython",
    "version": 3
   },
   "file_extension": ".py",
   "mimetype": "text/x-python",
   "name": "python",
   "nbconvert_exporter": "python",
   "pygments_lexer": "ipython3",
   "version": "3.10.11"
  },
  "orig_nbformat": 4
 },
 "nbformat": 4,
 "nbformat_minor": 2
}
