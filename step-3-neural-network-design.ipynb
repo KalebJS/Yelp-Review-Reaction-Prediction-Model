{
 "cells": [
  {
   "cell_type": "code",
   "execution_count": 1,
   "metadata": {},
   "outputs": [],
   "source": [
    "import config as cfg\n",
    "import pandas as pd\n",
    "import numpy as np\n",
    "from keras.models import Sequential\n",
    "from keras.layers import Dense, Dropout, Activation\n",
    "from pathlib import Path\n",
    "from sklearn.model_selection import train_test_split\n",
    "import pickle"
   ]
  },
  {
   "attachments": {},
   "cell_type": "markdown",
   "metadata": {},
   "source": [
    "### Load the train, validation, test sets"
   ]
  },
  {
   "cell_type": "code",
   "execution_count": 2,
   "metadata": {},
   "outputs": [
    {
     "data": {
      "text/plain": [
       "(139805, 931)"
      ]
     },
     "execution_count": 2,
     "metadata": {},
     "output_type": "execute_result"
    }
   ],
   "source": [
    "data = pd.read_pickle(cfg.PATHS.TRANSFORMED_DATA_PICKLE)\n",
    "data.shape"
   ]
  },
  {
   "cell_type": "code",
   "execution_count": 3,
   "metadata": {},
   "outputs": [
    {
     "data": {
      "text/plain": [
       "(4563, 931)"
      ]
     },
     "execution_count": 3,
     "metadata": {},
     "output_type": "execute_result"
    }
   ],
   "source": [
    "# only keep rows with more than 10 reactions \"funny\", \"useful\", \"cool\"\n",
    "data = data[data[\"funny\"] + data[\"useful\"] + data[\"cool\"] > 10]\n",
    "data.shape"
   ]
  },
  {
   "cell_type": "code",
   "execution_count": 4,
   "metadata": {},
   "outputs": [],
   "source": [
    "\n",
    "# Split the data into training and testing sets\n",
    "X = data.drop(columns=[\"useful\", \"funny\", \"cool\"], axis=1)\n",
    "y = data[[\"useful\", \"funny\", \"cool\"]]\n",
    "\n",
    "del data\n",
    "\n",
    "X_train, X_test, y_train, y_test = train_test_split(X, y, test_size=0.2, random_state=42)\n",
    "\n",
    "del X\n",
    "del y"
   ]
  },
  {
   "attachments": {},
   "cell_type": "markdown",
   "metadata": {},
   "source": [
    "### Build the model"
   ]
  },
  {
   "cell_type": "code",
   "execution_count": 5,
   "metadata": {},
   "outputs": [
    {
     "name": "stdout",
     "output_type": "stream",
     "text": [
      "Metal device set to: Apple M1\n",
      "\n",
      "systemMemory: 16.00 GB\n",
      "maxCacheSize: 5.33 GB\n",
      "\n",
      "Model: \"sequential\"\n",
      "_________________________________________________________________\n",
      " Layer (type)                Output Shape              Param #   \n",
      "=================================================================\n",
      " dense (Dense)               (None, 64)                59456     \n",
      "                                                                 \n",
      " dense_1 (Dense)             (None, 32)                2080      \n",
      "                                                                 \n",
      " dense_2 (Dense)             (None, 16)                528       \n",
      "                                                                 \n",
      " dense_3 (Dense)             (None, 3)                 51        \n",
      "                                                                 \n",
      "=================================================================\n",
      "Total params: 62,115\n",
      "Trainable params: 62,115\n",
      "Non-trainable params: 0\n",
      "_________________________________________________________________\n"
     ]
    },
    {
     "name": "stderr",
     "output_type": "stream",
     "text": [
      "2023-03-25 15:36:05.627673: I tensorflow/core/common_runtime/pluggable_device/pluggable_device_factory.cc:306] Could not identify NUMA node of platform GPU ID 0, defaulting to 0. Your kernel may not have been built with NUMA support.\n",
      "2023-03-25 15:36:05.627999: I tensorflow/core/common_runtime/pluggable_device/pluggable_device_factory.cc:272] Created TensorFlow device (/job:localhost/replica:0/task:0/device:GPU:0 with 0 MB memory) -> physical PluggableDevice (device: 0, name: METAL, pci bus id: <undefined>)\n"
     ]
    }
   ],
   "source": [
    "model = Sequential()\n",
    "model.add(Dense(64, activation=\"relu\", input_shape=(X_train.shape[1],)))\n",
    "model.add(Dense(32, activation=\"relu\"))\n",
    "model.add(Dense(16, activation=\"relu\"))\n",
    "model.add(Dense(3, activation=\"softmax\"))\n",
    "model.compile(optimizer=\"rmsprop\", loss=\"categorical_crossentropy\", metrics=[\"acc\"])\n",
    "model.summary()"
   ]
  },
  {
   "cell_type": "code",
   "execution_count": 6,
   "metadata": {},
   "outputs": [
    {
     "name": "stdout",
     "output_type": "stream",
     "text": [
      "Epoch 1/10\n"
     ]
    },
    {
     "name": "stderr",
     "output_type": "stream",
     "text": [
      "2023-03-25 15:36:09.971963: W tensorflow/tsl/platform/profile_utils/cpu_utils.cc:128] Failed to get CPU frequency: 0 Hz\n",
      "2023-03-25 15:36:10.263563: I tensorflow/core/grappler/optimizers/custom_graph_optimizer_registry.cc:114] Plugin optimizer for device_type GPU is enabled.\n"
     ]
    },
    {
     "name": "stdout",
     "output_type": "stream",
     "text": [
      "92/92 [==============================] - ETA: 0s - loss: 45491.6016 - acc: 0.8329"
     ]
    },
    {
     "name": "stderr",
     "output_type": "stream",
     "text": [
      "2023-03-25 15:36:12.017322: I tensorflow/core/grappler/optimizers/custom_graph_optimizer_registry.cc:114] Plugin optimizer for device_type GPU is enabled.\n"
     ]
    },
    {
     "name": "stdout",
     "output_type": "stream",
     "text": [
      "92/92 [==============================] - 2s 18ms/step - loss: 45491.6016 - acc: 0.8329 - val_loss: 128960.6172 - val_acc: 0.8178\n",
      "Epoch 2/10\n",
      "92/92 [==============================] - 1s 15ms/step - loss: 380519.3750 - acc: 0.8356 - val_loss: 648376.8750 - val_acc: 0.8178\n",
      "Epoch 3/10\n",
      "92/92 [==============================] - 1s 15ms/step - loss: 1271094.6250 - acc: 0.8356 - val_loss: 1833450.6250 - val_acc: 0.8178\n",
      "Epoch 4/10\n",
      "92/92 [==============================] - 1s 15ms/step - loss: 3075201.5000 - acc: 0.8356 - val_loss: 3925080.2500 - val_acc: 0.8178\n",
      "Epoch 5/10\n",
      "92/92 [==============================] - 1s 15ms/step - loss: 5947738.0000 - acc: 0.8356 - val_loss: 6793737.5000 - val_acc: 0.8178\n",
      "Epoch 6/10\n",
      "92/92 [==============================] - 1s 15ms/step - loss: 9325046.0000 - acc: 0.8356 - val_loss: 10067414.0000 - val_acc: 0.8178\n",
      "Epoch 7/10\n",
      "92/92 [==============================] - 1s 14ms/step - loss: 13163964.0000 - acc: 0.8356 - val_loss: 13826747.0000 - val_acc: 0.8178\n",
      "Epoch 8/10\n",
      "92/92 [==============================] - 1s 15ms/step - loss: 17770400.0000 - acc: 0.8356 - val_loss: 17995396.0000 - val_acc: 0.8178\n",
      "Epoch 9/10\n",
      "92/92 [==============================] - 1s 14ms/step - loss: 23341572.0000 - acc: 0.7264 - val_loss: 23561806.0000 - val_acc: 0.8178\n",
      "Epoch 10/10\n",
      "92/92 [==============================] - 1s 15ms/step - loss: 32456494.0000 - acc: 0.0870 - val_loss: 33925400.0000 - val_acc: 0.0781\n"
     ]
    }
   ],
   "source": [
    "history = model.fit(\n",
    "    np.array(X_train),\n",
    "    np.array(y_train),\n",
    "    epochs=10,\n",
    "    batch_size=32,\n",
    "    validation_split=0.2,\n",
    ")"
   ]
  },
  {
   "cell_type": "code",
   "execution_count": 7,
   "metadata": {},
   "outputs": [
    {
     "name": "stdout",
     "output_type": "stream",
     "text": [
      "29/29 [==============================] - 0s 9ms/step - loss: 37014768.0000 - acc: 0.0778\n"
     ]
    },
    {
     "data": {
      "text/plain": [
       "[37014768.0, 0.07776561379432678]"
      ]
     },
     "execution_count": 7,
     "metadata": {},
     "output_type": "execute_result"
    }
   ],
   "source": [
    "model.evaluate(np.array(X_test), np.array(y_test))"
   ]
  },
  {
   "cell_type": "code",
   "execution_count": 11,
   "metadata": {},
   "outputs": [
    {
     "name": "stdout",
     "output_type": "stream",
     "text": [
      "29/29 [==============================] - 0s 3ms/step\n"
     ]
    },
    {
     "data": {
      "text/plain": [
       "array([[0., 1., 0.],\n",
       "       [0., 1., 0.],\n",
       "       [0., 1., 0.],\n",
       "       ...,\n",
       "       [0., 1., 0.],\n",
       "       [0., 1., 0.],\n",
       "       [0., 1., 0.]], dtype=float32)"
      ]
     },
     "execution_count": 11,
     "metadata": {},
     "output_type": "execute_result"
    }
   ],
   "source": [
    "# find indices of all rows in test data with greater than 10 votes in any category\n",
    "model.predict(np.array(X_test))"
   ]
  },
  {
   "cell_type": "code",
   "execution_count": 9,
   "metadata": {},
   "outputs": [
    {
     "name": "stdout",
     "output_type": "stream",
     "text": [
      "INFO:tensorflow:Assets written to: ram://49075aba-efdc-4188-ba56-8b6c34550918/assets\n"
     ]
    }
   ],
   "source": [
    "pickle.dump(model, cfg.PATHS.KERAS_MODEL.open(\"wb\"))"
   ]
  }
 ],
 "metadata": {
  "kernelspec": {
   "display_name": "keras",
   "language": "python",
   "name": "python3"
  },
  "language_info": {
   "codemirror_mode": {
    "name": "ipython",
    "version": 3
   },
   "file_extension": ".py",
   "mimetype": "text/x-python",
   "name": "python",
   "nbconvert_exporter": "python",
   "pygments_lexer": "ipython3",
   "version": "3.9.16"
  },
  "orig_nbformat": 4
 },
 "nbformat": 4,
 "nbformat_minor": 2
}
