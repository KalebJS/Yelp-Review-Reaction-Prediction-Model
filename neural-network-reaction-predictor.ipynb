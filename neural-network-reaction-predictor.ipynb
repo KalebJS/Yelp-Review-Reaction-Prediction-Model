{
 "cells": [
  {
   "attachments": {},
   "cell_type": "markdown",
   "metadata": {},
   "source": [
    "Load the data"
   ]
  },
  {
   "cell_type": "code",
   "execution_count": 4,
   "metadata": {},
   "outputs": [],
   "source": [
    "import pandas as pd\n",
    "import pickle\n",
    "import config as c\n",
    "\n",
    "df = pd.read_pickle(c.PATHS.OBJECTS_FOLDER / \"transformed_data_popular.pickle\")\n",
    "with open(c.PATHS.OBJECTS_FOLDER / \"embeddings_popular.pkl\", \"rb\") as f:\n",
    "    embeddings = pickle.load(f)"
   ]
  },
  {
   "cell_type": "code",
   "execution_count": 24,
   "metadata": {},
   "outputs": [],
   "source": [
    "# drop all columns with \"city_*\" in the name\n",
    "df = df.drop(columns=[col for col in df.columns if \"city_\" in col])"
   ]
  },
  {
   "cell_type": "code",
   "execution_count": null,
   "metadata": {},
   "outputs": [
    {
     "data": {
      "text/plain": [
       "((223152, 12), (223152, 768), (203012, 12), (203012, 768))"
      ]
     },
     "execution_count": 25,
     "metadata": {},
     "output_type": "execute_result"
    }
   ],
   "source": [
    "df.shape, embeddings.shape"
   ]
  },
  {
   "cell_type": "code",
   "execution_count": 26,
   "metadata": {},
   "outputs": [],
   "source": [
    "# store the embeddings (numpy array) in the dataframe\n",
    "df[\"embeddings\"] = embeddings.tolist()"
   ]
  },
  {
   "attachments": {},
   "cell_type": "markdown",
   "metadata": {},
   "source": [
    "Create train and test sets"
   ]
  },
  {
   "cell_type": "code",
   "execution_count": 27,
   "metadata": {},
   "outputs": [],
   "source": [
    "from sklearn.model_selection import train_test_split\n",
    "\n",
    "df = pd.concat([df_popular, df_unpopular])\n",
    "X = df.drop(columns=[\"is_popular\"])\n",
    "y = df[\"is_popular\"]\n",
    "\n",
    "X_train, X_test, y_train, y_test = train_test_split(X, y, test_size=0.2, random_state=42)"
   ]
  },
  {
   "attachments": {},
   "cell_type": "markdown",
   "metadata": {},
   "source": [
    "Build keras neural network model to predict binary popularity"
   ]
  },
  {
   "cell_type": "code",
   "execution_count": 28,
   "metadata": {},
   "outputs": [],
   "source": [
    "X_train_embeddings = X_train[\"embeddings\"].values.tolist()\n",
    "X_test_embeddings = X_test[\"embeddings\"].values.tolist()\n",
    "\n",
    "X_train = X_train.drop(columns=[\"embeddings\"])\n",
    "X_test = X_test.drop(columns=[\"embeddings\"])"
   ]
  },
  {
   "cell_type": "code",
   "execution_count": 29,
   "metadata": {},
   "outputs": [],
   "source": [
    "from keras.layers import Input, Dense, Flatten, concatenate\n",
    "from keras.models import Model\n",
    "\n",
    "# Define input layers for text data and embeddings\n",
    "input_text = Input(shape=(X_train.shape[1],))\n",
    "input_embed = Input(shape=(len(X_train_embeddings[0]),))\n",
    "\n",
    "# Define dense layers for text data and embeddings\n",
    "dense_text = Dense(64, activation='relu')(input_text)\n",
    "dense_embed = Dense(64, activation='relu')(input_embed)\n",
    "\n",
    "# Concatenate the dense layers\n",
    "concat = concatenate([dense_text, dense_embed])\n",
    "\n",
    "# Define output layer\n",
    "output = Dense(1, activation='sigmoid')(concat)\n",
    "\n",
    "# Define the model\n",
    "model = Model(inputs=[input_text, input_embed], outputs=output)\n",
    "\n",
    "# Compile the model\n",
    "model.compile(optimizer='adam', loss='binary_crossentropy', metrics=['accuracy'])\n",
    "\n",
    "# Fit the model\n",
    "model.fit([X_train, X_train_embeddings], y_train, epochs=10, batch_size=32, validation_data=([X_test, X_test_embeddings], y_test))\n"
   ]
  }
 ],
 "metadata": {
  "kernelspec": {
   "display_name": "keras",
   "language": "python",
   "name": "python3"
  },
  "language_info": {
   "codemirror_mode": {
    "name": "ipython",
    "version": 3
   },
   "file_extension": ".py",
   "mimetype": "text/x-python",
   "name": "python",
   "nbconvert_exporter": "python",
   "pygments_lexer": "ipython3",
   "version": "3.9.16"
  },
  "orig_nbformat": 4
 },
 "nbformat": 4,
 "nbformat_minor": 2
}
