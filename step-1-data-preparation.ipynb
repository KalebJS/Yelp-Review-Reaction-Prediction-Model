{
 "cells": [
  {
   "cell_type": "code",
   "execution_count": 2,
   "metadata": {},
   "outputs": [],
   "source": [
    "import sqlite3\n",
    "import config as cfg\n",
    "import pandas as pd"
   ]
  },
  {
   "cell_type": "code",
   "execution_count": 3,
   "metadata": {},
   "outputs": [],
   "source": [
    "from tqdm.notebook import tqdm\n",
    "\n",
    "tqdm.pandas()"
   ]
  },
  {
   "attachments": {},
   "cell_type": "markdown",
   "metadata": {},
   "source": [
    "# reviews data"
   ]
  },
  {
   "cell_type": "code",
   "execution_count": null,
   "metadata": {},
   "outputs": [],
   "source": [
    "with cfg.PATHS.RAW_REVIEWS.open() as f:\n",
    "    df = pd.read_json(f, lines=True)\n",
    "\n",
    "df.head()"
   ]
  },
  {
   "cell_type": "code",
   "execution_count": null,
   "metadata": {},
   "outputs": [],
   "source": [
    "df = df[[\"review_id\", \"user_id\", \"business_id\", \"stars\", \"text\", \"useful\", \"funny\", \"cool\", \"date\"]]"
   ]
  },
  {
   "cell_type": "code",
   "execution_count": null,
   "metadata": {},
   "outputs": [],
   "source": [
    "# convert date field to timedelta\n",
    "df[\"date\"] = pd.to_datetime(df[\"date\"])\n",
    "df[\"review_age\"] = df[\"date\"].progress_apply(lambda x: (cfg.DATE_COLLECTED - x).days)\n",
    "df.drop(columns=[\"date\"], inplace=True)"
   ]
  },
  {
   "cell_type": "code",
   "execution_count": null,
   "metadata": {},
   "outputs": [],
   "source": [
    "df.drop_duplicates(inplace=True)"
   ]
  },
  {
   "cell_type": "code",
   "execution_count": null,
   "metadata": {},
   "outputs": [],
   "source": [
    "df[\"review_stars\"] = df[\"stars\"]\n",
    "df.drop(columns=[\"stars\"], inplace=True)"
   ]
  },
  {
   "cell_type": "code",
   "execution_count": null,
   "metadata": {},
   "outputs": [],
   "source": [
    "df.to_sql(\"reviews\", con=sqlite3.connect(cfg.PATHS.DB), if_exists=\"replace\", index=False)"
   ]
  },
  {
   "cell_type": "code",
   "execution_count": null,
   "metadata": {},
   "outputs": [],
   "source": [
    "del df"
   ]
  },
  {
   "attachments": {},
   "cell_type": "markdown",
   "metadata": {},
   "source": [
    "# business data"
   ]
  },
  {
   "cell_type": "code",
   "execution_count": null,
   "metadata": {},
   "outputs": [],
   "source": [
    "with cfg.PATHS.RAW_BUSINESS.open() as f:\n",
    "    df = pd.read_json(f, lines=True)\n",
    "\n",
    "df.head()"
   ]
  },
  {
   "cell_type": "code",
   "execution_count": null,
   "metadata": {},
   "outputs": [],
   "source": [
    "df = df[[\"business_id\", \"city\", \"stars\", \"categories\"]]"
   ]
  },
  {
   "cell_type": "code",
   "execution_count": null,
   "metadata": {},
   "outputs": [],
   "source": [
    "df[\"categories_list_string\"] = df[\"categories\"].progress_apply(str)"
   ]
  },
  {
   "cell_type": "code",
   "execution_count": null,
   "metadata": {},
   "outputs": [],
   "source": [
    "df.drop(columns=[\"categories\"], inplace=True)"
   ]
  },
  {
   "cell_type": "code",
   "execution_count": null,
   "metadata": {},
   "outputs": [],
   "source": [
    "df.to_sql(\"business\", con=sqlite3.connect(cfg.PATHS.DB), if_exists=\"replace\", index=False)"
   ]
  },
  {
   "cell_type": "code",
   "execution_count": null,
   "metadata": {},
   "outputs": [],
   "source": [
    "del df"
   ]
  },
  {
   "attachments": {},
   "cell_type": "markdown",
   "metadata": {},
   "source": [
    "# user data"
   ]
  },
  {
   "cell_type": "code",
   "execution_count": null,
   "metadata": {},
   "outputs": [],
   "source": [
    "with cfg.PATHS.RAW_USER.open() as f:\n",
    "    df = pd.read_json(f, lines=True)\n",
    "\n",
    "df.head()"
   ]
  },
  {
   "cell_type": "code",
   "execution_count": null,
   "metadata": {},
   "outputs": [],
   "source": [
    "df = df[[\"user_id\", \"review_count\", \"yelping_since\", \"fans\"]]"
   ]
  },
  {
   "cell_type": "code",
   "execution_count": null,
   "metadata": {},
   "outputs": [],
   "source": [
    "df[\"account_age\"] = (cfg.DATE_COLLECTED - pd.to_datetime(df[\"yelping_since\"])).dt.days"
   ]
  },
  {
   "cell_type": "code",
   "execution_count": null,
   "metadata": {},
   "outputs": [],
   "source": [
    "df.drop(columns=[\"yelping_since\"], inplace=True)"
   ]
  },
  {
   "cell_type": "code",
   "execution_count": null,
   "metadata": {},
   "outputs": [],
   "source": [
    "df.to_sql(\"users\", con=sqlite3.connect(cfg.PATHS.DB), if_exists=\"replace\", index=False)"
   ]
  },
  {
   "cell_type": "code",
   "execution_count": null,
   "metadata": {},
   "outputs": [],
   "source": [
    "del df"
   ]
  },
  {
   "attachments": {},
   "cell_type": "markdown",
   "metadata": {},
   "source": [
    "# join reviews to business and user data"
   ]
  },
  {
   "cell_type": "code",
   "execution_count": 4,
   "metadata": {},
   "outputs": [],
   "source": [
    "df = pd.read_sql(\"SELECT * FROM reviews JOIN business ON reviews.business_id = business.business_id JOIN users ON reviews.user_id = users.user_id\", con=sqlite3.connect(cfg.PATHS.DB))"
   ]
  },
  {
   "cell_type": "code",
   "execution_count": 5,
   "metadata": {},
   "outputs": [],
   "source": [
    "df = df.sample(frac=cfg.proportion, random_state=42)"
   ]
  },
  {
   "cell_type": "code",
   "execution_count": 6,
   "metadata": {},
   "outputs": [
    {
     "data": {
      "text/plain": [
       "1.0"
      ]
     },
     "execution_count": 6,
     "metadata": {},
     "output_type": "execute_result"
    }
   ],
   "source": [
    "cfg.proportion"
   ]
  },
  {
   "cell_type": "code",
   "execution_count": 7,
   "metadata": {},
   "outputs": [],
   "source": [
    "df.drop(columns=[\"business_id\", \"user_id\", \"review_id\"], inplace=True)"
   ]
  },
  {
   "cell_type": "code",
   "execution_count": 8,
   "metadata": {},
   "outputs": [],
   "source": [
    "df.drop_duplicates(inplace=True)\n",
    "df.dropna(inplace=True)\n",
    "df = df[df[\"text\"] != \"\"]"
   ]
  },
  {
   "cell_type": "code",
   "execution_count": 9,
   "metadata": {},
   "outputs": [
    {
     "data": {
      "text/html": [
       "<div>\n",
       "<style scoped>\n",
       "    .dataframe tbody tr th:only-of-type {\n",
       "        vertical-align: middle;\n",
       "    }\n",
       "\n",
       "    .dataframe tbody tr th {\n",
       "        vertical-align: top;\n",
       "    }\n",
       "\n",
       "    .dataframe thead th {\n",
       "        text-align: right;\n",
       "    }\n",
       "</style>\n",
       "<table border=\"1\" class=\"dataframe\">\n",
       "  <thead>\n",
       "    <tr style=\"text-align: right;\">\n",
       "      <th></th>\n",
       "      <th>text</th>\n",
       "      <th>useful</th>\n",
       "      <th>funny</th>\n",
       "      <th>cool</th>\n",
       "      <th>review_age</th>\n",
       "      <th>review_stars</th>\n",
       "      <th>city</th>\n",
       "      <th>stars</th>\n",
       "      <th>categories_list_string</th>\n",
       "      <th>review_count</th>\n",
       "      <th>fans</th>\n",
       "      <th>account_age</th>\n",
       "    </tr>\n",
       "  </thead>\n",
       "  <tbody>\n",
       "    <tr>\n",
       "      <th>5527377</th>\n",
       "      <td>A cheaper alternative to a full blown AYCE hot...</td>\n",
       "      <td>17</td>\n",
       "      <td>3</td>\n",
       "      <td>7</td>\n",
       "      <td>1163</td>\n",
       "      <td>4</td>\n",
       "      <td>Philadelphia</td>\n",
       "      <td>4.0</td>\n",
       "      <td>Taiwanese, Hot Pot, Restaurants, Bubble Tea, Food</td>\n",
       "      <td>140</td>\n",
       "      <td>6</td>\n",
       "      <td>3602</td>\n",
       "    </tr>\n",
       "    <tr>\n",
       "      <th>389000</th>\n",
       "      <td>We liked this place so much I ate there again ...</td>\n",
       "      <td>1</td>\n",
       "      <td>0</td>\n",
       "      <td>1</td>\n",
       "      <td>1299</td>\n",
       "      <td>5</td>\n",
       "      <td>Tucson</td>\n",
       "      <td>4.0</td>\n",
       "      <td>Restaurants, Salad, Pakistani, Indian, Cocktai...</td>\n",
       "      <td>31</td>\n",
       "      <td>0</td>\n",
       "      <td>4094</td>\n",
       "    </tr>\n",
       "    <tr>\n",
       "      <th>556758</th>\n",
       "      <td>Pretty limited menu, but good authentic food. ...</td>\n",
       "      <td>2</td>\n",
       "      <td>1</td>\n",
       "      <td>1</td>\n",
       "      <td>1577</td>\n",
       "      <td>5</td>\n",
       "      <td>Philadelphia</td>\n",
       "      <td>4.0</td>\n",
       "      <td>Halal, Restaurants, Mexican, Steakhouses</td>\n",
       "      <td>21</td>\n",
       "      <td>0</td>\n",
       "      <td>3902</td>\n",
       "    </tr>\n",
       "    <tr>\n",
       "      <th>4074689</th>\n",
       "      <td>I have a 2014 Ford Escape and a very strange t...</td>\n",
       "      <td>0</td>\n",
       "      <td>0</td>\n",
       "      <td>0</td>\n",
       "      <td>2480</td>\n",
       "      <td>4</td>\n",
       "      <td>Tampa</td>\n",
       "      <td>3.5</td>\n",
       "      <td>Automotive, Transmission Repair, Car Dealers, ...</td>\n",
       "      <td>1</td>\n",
       "      <td>0</td>\n",
       "      <td>2480</td>\n",
       "    </tr>\n",
       "    <tr>\n",
       "      <th>3687671</th>\n",
       "      <td>I've been a member of CrossFit En Fuego for ne...</td>\n",
       "      <td>3</td>\n",
       "      <td>1</td>\n",
       "      <td>1</td>\n",
       "      <td>3015</td>\n",
       "      <td>5</td>\n",
       "      <td>Land O Lakes</td>\n",
       "      <td>5.0</td>\n",
       "      <td>Interval Training Gyms, Trainers, Fitness &amp; In...</td>\n",
       "      <td>145</td>\n",
       "      <td>7</td>\n",
       "      <td>3791</td>\n",
       "    </tr>\n",
       "  </tbody>\n",
       "</table>\n",
       "</div>"
      ],
      "text/plain": [
       "                                                      text  useful  funny  \\\n",
       "5527377  A cheaper alternative to a full blown AYCE hot...      17      3   \n",
       "389000   We liked this place so much I ate there again ...       1      0   \n",
       "556758   Pretty limited menu, but good authentic food. ...       2      1   \n",
       "4074689  I have a 2014 Ford Escape and a very strange t...       0      0   \n",
       "3687671  I've been a member of CrossFit En Fuego for ne...       3      1   \n",
       "\n",
       "         cool  review_age  review_stars          city  stars  \\\n",
       "5527377     7        1163             4  Philadelphia    4.0   \n",
       "389000      1        1299             5        Tucson    4.0   \n",
       "556758      1        1577             5  Philadelphia    4.0   \n",
       "4074689     0        2480             4         Tampa    3.5   \n",
       "3687671     1        3015             5  Land O Lakes    5.0   \n",
       "\n",
       "                                    categories_list_string  review_count  \\\n",
       "5527377  Taiwanese, Hot Pot, Restaurants, Bubble Tea, Food           140   \n",
       "389000   Restaurants, Salad, Pakistani, Indian, Cocktai...            31   \n",
       "556758            Halal, Restaurants, Mexican, Steakhouses            21   \n",
       "4074689  Automotive, Transmission Repair, Car Dealers, ...             1   \n",
       "3687671  Interval Training Gyms, Trainers, Fitness & In...           145   \n",
       "\n",
       "         fans  account_age  \n",
       "5527377     6         3602  \n",
       "389000      0         4094  \n",
       "556758      0         3902  \n",
       "4074689     0         2480  \n",
       "3687671     7         3791  "
      ]
     },
     "execution_count": 9,
     "metadata": {},
     "output_type": "execute_result"
    }
   ],
   "source": [
    "df.head()"
   ]
  },
  {
   "attachments": {},
   "cell_type": "markdown",
   "metadata": {},
   "source": [
    "# output results as pickled dataframe"
   ]
  },
  {
   "cell_type": "code",
   "execution_count": 10,
   "metadata": {},
   "outputs": [],
   "source": [
    "df.to_pickle(cfg.PATHS.CLEAN_DATA_PICKLE)"
   ]
  },
  {
   "cell_type": "code",
   "execution_count": 11,
   "metadata": {},
   "outputs": [],
   "source": [
    "# only keep values where sum of useful, funny, and cool is greater than 10\n",
    "df = df[df[\"useful\"] + df[\"funny\"] + df[\"cool\"] <= 10]"
   ]
  },
  {
   "cell_type": "code",
   "execution_count": 12,
   "metadata": {},
   "outputs": [],
   "source": [
    "df.to_pickle(cfg.PATHS.OBJECTS_FOLDER / \"clean_data_unpopular.pickle\")"
   ]
  },
  {
   "cell_type": "code",
   "execution_count": 13,
   "metadata": {},
   "outputs": [
    {
     "data": {
      "text/plain": [
       "(6767070, 12)"
      ]
     },
     "execution_count": 13,
     "metadata": {},
     "output_type": "execute_result"
    }
   ],
   "source": [
    "df.shape"
   ]
  }
 ],
 "metadata": {
  "kernelspec": {
   "display_name": ".venv",
   "language": "python",
   "name": "python3"
  },
  "language_info": {
   "codemirror_mode": {
    "name": "ipython",
    "version": 3
   },
   "file_extension": ".py",
   "mimetype": "text/x-python",
   "name": "python",
   "nbconvert_exporter": "python",
   "pygments_lexer": "ipython3",
   "version": "3.11.3"
  },
  "orig_nbformat": 4
 },
 "nbformat": 4,
 "nbformat_minor": 2
}
